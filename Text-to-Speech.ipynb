{
 "cells": [
  {
   "cell_type": "markdown",
   "id": "4e1e8886",
   "metadata": {},
   "source": [
    "**pyttsx3** est une bibliothèque de conversion texte-parole en Python. Contrairement aux bibliothèques alternatives, il fonctionne hors ligne et est compatible avec Python 2 et 3."
   ]
  },
  {
   "cell_type": "code",
   "execution_count": null,
   "id": "dbabb8af",
   "metadata": {},
   "outputs": [],
   "source": [
    "#!pip install pyttsx3"
   ]
  },
  {
   "cell_type": "code",
   "execution_count": 2,
   "id": "708909f4",
   "metadata": {},
   "outputs": [],
   "source": [
    "import pyttsx3\n",
    "engine = pyttsx3.init()"
   ]
  },
  {
   "cell_type": "code",
   "execution_count": 4,
   "id": "ae260485",
   "metadata": {},
   "outputs": [],
   "source": [
    "engine.say(\"H2ES Institute est un groupe de professionnels Data Scientists spécialisé dans le conseil d’entreprises, \\\n",
    "           la formation Hybride 2.0 et la réalisation d'Études Statistiques et IA.\")"
   ]
  },
  {
   "cell_type": "code",
   "execution_count": 5,
   "id": "b5abc51d",
   "metadata": {},
   "outputs": [],
   "source": [
    "engine.runAndWait()"
   ]
  },
  {
   "cell_type": "code",
   "execution_count": 6,
   "id": "042667c4",
   "metadata": {},
   "outputs": [
    {
     "name": "stdout",
     "output_type": "stream",
     "text": [
      "200\n"
     ]
    }
   ],
   "source": [
    "\"\"\" RATE\"\"\"\n",
    "rate = engine.getProperty('rate')   # obtenir des détails sur le débit de parole actuel\n",
    "print (rate)                        #impression du débit de voix actuel"
   ]
  },
  {
   "cell_type": "code",
   "execution_count": 7,
   "id": "0c94d0a5",
   "metadata": {},
   "outputs": [],
   "source": [
    "engine.setProperty('rate', 125)     # configuration d'un nouveau débit vocal \n",
    "\n",
    "engine.say(\"H2ES Institute est un groupe de professionnels Data Scientists spécialisé dans le conseil d’entreprises, \\\n",
    "           la formation Hybride 2.0 et la réalisation d'Études Statistiques et IA.\")\n",
    "engine.runAndWait()"
   ]
  },
  {
   "cell_type": "code",
   "execution_count": 8,
   "id": "b7d8d1c3",
   "metadata": {},
   "outputs": [
    {
     "name": "stdout",
     "output_type": "stream",
     "text": [
      "125\n"
     ]
    }
   ],
   "source": [
    "rate = engine.getProperty('rate')   # obtenir des détails sur le débit de parole actuel\n",
    "print (rate)                        #impression du débit de voix actuel"
   ]
  },
  {
   "cell_type": "code",
   "execution_count": 9,
   "id": "6c625258",
   "metadata": {},
   "outputs": [
    {
     "name": "stdout",
     "output_type": "stream",
     "text": [
      "1.0\n"
     ]
    }
   ],
   "source": [
    "\"\"\"VOLUME\"\"\"\n",
    "volume = engine.getProperty('volume')   #connaître le niveau de volume actuel (min=0 et max=1) \n",
    "print (volume)                          #impression niveau de volume actuel "
   ]
  },
  {
   "cell_type": "code",
   "execution_count": 14,
   "id": "49d620db",
   "metadata": {},
   "outputs": [],
   "source": [
    "engine.setProperty('volume',1)    # réglage du niveau de volume entre 0 et 1 "
   ]
  },
  {
   "cell_type": "code",
   "execution_count": 15,
   "id": "0bd048a6",
   "metadata": {},
   "outputs": [],
   "source": [
    "engine.say(\"H2ES Institute est un groupe de professionnels Data Scientists spécialisé dans le conseil d’entreprises, \\\n",
    "           la formation Hybride 2.0 et la réalisation d'Études Statistiques et IA.\")\n",
    "engine.runAndWait()"
   ]
  },
  {
   "cell_type": "code",
   "execution_count": null,
   "id": "b4f1668a",
   "metadata": {},
   "outputs": [],
   "source": [
    "engine.setProperty('rate', 200)"
   ]
  },
  {
   "cell_type": "code",
   "execution_count": null,
   "id": "2f984180",
   "metadata": {},
   "outputs": [],
   "source": [
    "engine.say(\"H2ES Institute est un groupe de professionnels Data Scientists spécialisé dans le conseil d’entreprises, \\\n",
    "           la formation Hybride 2.0 et la réalisation d'Études Statistiques et IA.\")\n",
    "\n",
    "engine.runAndWait()\n",
    "engine.stop()"
   ]
  },
  {
   "cell_type": "code",
   "execution_count": 16,
   "id": "aed5d233",
   "metadata": {},
   "outputs": [],
   "source": [
    "\"\"\"Saving Voice to a file\"\"\"\n",
    "# On linux make sure that 'espeak' and 'ffmpeg' are installed\n",
    "engine.save_to_file(\"H2ES Institute est un groupe de professionnels Data Scientists spécialisé dans le conseil d’entreprises, \\\n",
    "           la formation Hybride 2.0 et la réalisation d'Études Statistiques et IA.\", \n",
    "                    'Text-to-speech.mp3')\n",
    "engine.runAndWait()"
   ]
  }
 ],
 "metadata": {
  "kernelspec": {
   "display_name": "Python 3 (ipykernel)",
   "language": "python",
   "name": "python3"
  },
  "language_info": {
   "codemirror_mode": {
    "name": "ipython",
    "version": 3
   },
   "file_extension": ".py",
   "mimetype": "text/x-python",
   "name": "python",
   "nbconvert_exporter": "python",
   "pygments_lexer": "ipython3",
   "version": "3.9.7"
  }
 },
 "nbformat": 4,
 "nbformat_minor": 5
}
